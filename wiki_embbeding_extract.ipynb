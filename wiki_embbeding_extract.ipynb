{
  "cells": [
    {
      "cell_type": "markdown",
      "source": [
        "# Google Colab"
      ],
      "metadata": {
        "id": "bEIPbINYu2TH"
      }
    },
    {
      "cell_type": "code",
      "source": [
        "!pip install -q openai pandas tiktoken\n"
      ],
      "metadata": {
        "id": "kilytTmvJPh5"
      },
      "execution_count": null,
      "outputs": []
    },
    {
      "cell_type": "code",
      "source": [
        "import os\n",
        "import random\n",
        "import pandas as pd\n",
        "from openai import OpenAI\n",
        "import tiktoken\n",
        "from tqdm import tqdm\n",
        "from datasets import load_dataset\n"
      ],
      "metadata": {
        "id": "LleIyO8FJP-R"
      },
      "execution_count": null,
      "outputs": []
    },
    {
      "cell_type": "code",
      "source": [
        "enc = tiktoken.encoding_for_model(\"text-embedding-3-small\")\n",
        "MAX_TOKENS = 8191"
      ],
      "metadata": {
        "id": "j1nxYoi4J4i1"
      },
      "execution_count": null,
      "outputs": []
    },
    {
      "cell_type": "code",
      "source": [
        "ds = load_dataset(\"lcw99/wikipedia-korean-20221001\", split=\"train\")\n",
        "ds = ds.shuffle(seed=42).select(range(1000))"
      ],
      "metadata": {
        "id": "M6Q2voBxKItZ"
      },
      "execution_count": null,
      "outputs": []
    },
    {
      "cell_type": "code",
      "source": [
        "def count_tokens(text: str) -> int:\n",
        "    return len(enc.encode(text))\n"
      ],
      "metadata": {
        "id": "SxvFeZy-KM0r"
      },
      "execution_count": null,
      "outputs": []
    },
    {
      "cell_type": "code",
      "source": [
        "from google.colab import userdata\n",
        "client = OpenAI(api_key=userdata.get('OPENAI_API_KEY'))\n",
        "\n",
        "def get_embedding(text: str):\n",
        "    resp = client.embeddings.create(\n",
        "        input=text,\n",
        "        model=\"text-embedding-3-small\"\n",
        "    )\n",
        "    return resp.data[0].embedding"
      ],
      "metadata": {
        "id": "hzjzO3c_KO3T"
      },
      "execution_count": null,
      "outputs": []
    },
    {
      "cell_type": "code",
      "source": [
        "import time\n",
        "\n",
        "results = []\n",
        "for ex in tqdm(ds, total=len(ds)):\n",
        "    title, text = ex[\"title\"], ex[\"text\"]\n",
        "    if len(enc.encode(text)) > MAX_TOKENS:\n",
        "        continue\n",
        "    emb = get_embedding(text)\n",
        "    time.sleep(0.01)\n",
        "    results.append({\"title\": title, \"text\": text, \"\": emb})"
      ],
      "metadata": {
        "colab": {
          "base_uri": "https://localhost:8080/"
        },
        "id": "QSMSn-97K4W_",
        "outputId": "8af53869-429a-4614-ebec-57e73bdbeabd"
      },
      "execution_count": null,
      "outputs": [
        {
          "output_type": "stream",
          "name": "stderr",
          "text": [
            "100%|██████████| 1000/1000 [05:03<00:00,  3.29it/s]\n"
          ]
        }
      ]
    },
    {
      "cell_type": "code",
      "source": [
        "import json\n",
        "\n",
        "with open(\"/content/drive/MyDrive/ClusterAE/datasets/wikipedia-korean-20221001-embeddings-1k.jsonl\", \"w\", encoding=\"utf-8\") as f:\n",
        "    for item in results:\n",
        "        json.dump(item, f, ensure_ascii=False)\n",
        "        f.write(\"\\n\")\n",
        "print(\"저장 완료\")"
      ],
      "metadata": {
        "colab": {
          "base_uri": "https://localhost:8080/"
        },
        "id": "kAmgucvFK46B",
        "outputId": "ec187365-6d1a-40ef-df79-2e46adabebe4"
      },
      "execution_count": null,
      "outputs": [
        {
          "output_type": "stream",
          "name": "stdout",
          "text": [
            "✅ wiki_ko_10k_openai3s.jsonl로 저장 완료\n"
          ]
        }
      ]
    }
  ],
  "metadata": {
    "accelerator": "GPU",
    "colab": {
      "gpuType": "T4",
      "provenance": []
    },
    "kernelspec": {
      "display_name": "Python 3",
      "name": "python3"
    },
    "language_info": {
      "name": "python"
    }
  },
  "nbformat": 4,
  "nbformat_minor": 0
}